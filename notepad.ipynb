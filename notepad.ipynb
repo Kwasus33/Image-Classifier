{
 "cells": [
  {
   "cell_type": "code",
   "execution_count": 3,
   "metadata": {},
   "outputs": [],
   "source": [
    "import torch\n",
    "# import torch.nn as nn\n",
    "# import torch.optim as optim\n",
    "\n",
    "from model_factories import get_golem_model, get_resnet18_model, get_resnet34_model, get_vitbase_model\n",
    "from dataloaders import get_dataloaders\n",
    "from model_utils import train_epoch, eval, getBestModelParams\n",
    "from plotter import plot_images"
   ]
  },
  {
   "cell_type": "code",
   "execution_count": 4,
   "metadata": {},
   "outputs": [],
   "source": [
    "device = torch.device(\n",
    "        \"mps\"\n",
    "        if torch.backends.mps.is_available()\n",
    "        else \"cuda\" if torch.cuda.is_available() else \"cpu\"\n",
    "    )\n",
    "train_loader, test_loader, classes = get_dataloaders(test_run=True)\n",
    "CLASSES_NUM = len(classes)\n",
    "EPOCHS = 5"
   ]
  },
  {
   "cell_type": "markdown",
   "metadata": {},
   "source": [
    "## Optimal Model Hyperparameters"
   ]
  },
  {
   "cell_type": "code",
   "execution_count": null,
   "metadata": {},
   "outputs": [
    {
     "name": "stdout",
     "output_type": "stream",
     "text": [
      "Test for optim <class 'torch.optim.adam.Adam'> and loss func <class 'torch.nn.modules.loss.CrossEntropyLoss'>: \n",
      "Learning rate: 0.0001\n"
     ]
    }
   ],
   "source": [
    "gc = get_golem_model(CLASSES_NUM)\n",
    "gc.to(device)\n",
    "\n",
    "lr, loss, criterion, optim = getBestModelParams(gc, train_loader, device)\n",
    "print(f\"Optim lr: {lr}\\nLoss: {loss}\\nBest optim: {optim}\\nBest loss func: {criterion}\")\n",
    "\n",
    "LR = lr"
   ]
  },
  {
   "cell_type": "markdown",
   "metadata": {},
   "source": [
    "# Sceanrio 1 - Custom Backbone"
   ]
  },
  {
   "cell_type": "code",
   "execution_count": 6,
   "metadata": {},
   "outputs": [],
   "source": [
    "gc = get_golem_model(CLASSES_NUM)\n",
    "gc.to(device)\n",
    "\n",
    "criterion_gc = criterion()\n",
    "optimizer_gc = optim(params=gc.parameters(), lr=LR)"
   ]
  },
  {
   "cell_type": "code",
   "execution_count": null,
   "metadata": {},
   "outputs": [],
   "source": [
    "for i in range(3):\n",
    "    loss = train_epoch(gc, criterion_gc, optimizer_gc, train_loader, device)\n",
    "    print(f\"{i+1}/3: loss={loss}\")"
   ]
  },
  {
   "cell_type": "code",
   "execution_count": null,
   "metadata": {},
   "outputs": [],
   "source": [
    "metrics, preds = eval(gc, criterion_gc, test_loader, device)\n",
    "loss, accuracy, precision, recall, f1 = metrics\n",
    "print(\"Custom backbone results: \")\n",
    "print(f\"Avg loss {loss}\\nAccu {accuracy}\\nPrecision {precision}\\nRecall {recall}\\nF-score {f1}\\n\")\n",
    "\n",
    "# plot_images(images, preds, classes)"
   ]
  },
  {
   "cell_type": "markdown",
   "metadata": {},
   "source": [
    "# Scenario 2 - ResNet18"
   ]
  },
  {
   "cell_type": "code",
   "execution_count": null,
   "metadata": {},
   "outputs": [],
   "source": [
    "gc = get_resnet18_model(CLASSES_NUM)\n",
    "gc.to(device)\n",
    "\n",
    "criterion_gc = criterion()\n",
    "optimizer_gc = optim(params=gc.parameters(), lr=LR)"
   ]
  },
  {
   "cell_type": "code",
   "execution_count": null,
   "metadata": {},
   "outputs": [],
   "source": [
    "for i in range(3):\n",
    "    loss = train_epoch(gc, criterion_gc, optimizer_gc, train_loader, device)\n",
    "    print(f\"{i+1}/3: loss={loss}\")"
   ]
  },
  {
   "cell_type": "code",
   "execution_count": null,
   "metadata": {},
   "outputs": [],
   "source": [
    "metrics, preds = eval(gc, criterion_gc, test_loader, device)\n",
    "loss, accuracy, precision, recall, f1 = metrics\n",
    "print(\"Resnet18 backbone results: \")\n",
    "print(f\"Avg loss {loss}\\nAccu {accuracy}\\nPrecision {precision}\\nRecall {recall}\\nF-score {f1}\\n\")\n",
    "\n",
    "# plot_images(images, preds, classes)"
   ]
  },
  {
   "cell_type": "markdown",
   "metadata": {},
   "source": [
    "# Scenario 3 - ResNet34"
   ]
  },
  {
   "cell_type": "code",
   "execution_count": 18,
   "metadata": {},
   "outputs": [],
   "source": [
    "gc = get_resnet34_model(CLASSES_NUM)\n",
    "gc.to(device)\n",
    "\n",
    "criterion_gc = criterion()\n",
    "optimizer_gc = optim(params=gc.parameters(), lr=LR)"
   ]
  },
  {
   "cell_type": "code",
   "execution_count": null,
   "metadata": {},
   "outputs": [],
   "source": [
    "for i in range(3):\n",
    "    loss = train_epoch(gc, criterion_gc, optimizer_gc, train_loader, device)\n",
    "    print(f\"{i+1}/3: loss={loss}\")"
   ]
  },
  {
   "cell_type": "code",
   "execution_count": null,
   "metadata": {},
   "outputs": [],
   "source": [
    "metrics, preds = eval(gc, criterion_gc, test_loader, device)\n",
    "loss, accuracy, precision, recall, f1 = metrics\n",
    "print(\"Resnet34 backbone results: \")\n",
    "print(f\"Avg loss {loss}\\nAccu {accuracy}\\nPrecision {precision}\\nRecall {recall}\\nF-score {f1}\\n\")\n",
    "\n",
    "# plot_images(images, preds, classes)"
   ]
  },
  {
   "cell_type": "markdown",
   "metadata": {},
   "source": [
    "# Scenario 5"
   ]
  },
  {
   "cell_type": "code",
   "execution_count": 15,
   "metadata": {},
   "outputs": [],
   "source": [
    "gc = get_vitbase_model(CLASSES_NUM)\n",
    "gc.to(device)\n",
    "\n",
    "criterion_gc = criterion()\n",
    "optimizer_gc = optim(params=gc.parameters(), lr=LR)"
   ]
  },
  {
   "cell_type": "code",
   "execution_count": null,
   "metadata": {},
   "outputs": [],
   "source": [
    "for i in range(3):\n",
    "    loss = train_epoch(gc, criterion_gc, optimizer_gc, train_loader, device)\n",
    "    print(f\"{i+1}/3: loss={loss}\")"
   ]
  },
  {
   "cell_type": "code",
   "execution_count": null,
   "metadata": {},
   "outputs": [],
   "source": [
    "metrics, preds = eval(gc, criterion_gc, test_loader, device)\n",
    "loss, accuracy, precision, recall, f1 = metrics\n",
    "print(\"Vitbase backbone results: \")\n",
    "print(f\"Avg loss {loss}\\nAccu {accuracy}\\nPrecision {precision}\\nRecall {recall}\\nF-score {f1}\\n\")\n",
    "\n",
    "# plot_images(images, preds, classes)"
   ]
  }
 ],
 "metadata": {
  "kernelspec": {
   "display_name": "golem",
   "language": "python",
   "name": "python3"
  },
  "language_info": {
   "codemirror_mode": {
    "name": "ipython",
    "version": 3
   },
   "file_extension": ".py",
   "mimetype": "text/x-python",
   "name": "python",
   "nbconvert_exporter": "python",
   "pygments_lexer": "ipython3",
   "version": "3.10.16"
  }
 },
 "nbformat": 4,
 "nbformat_minor": 2
}
