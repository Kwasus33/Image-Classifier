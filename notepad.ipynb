{
 "cells": [
  {
   "cell_type": "code",
   "execution_count": 3,
   "metadata": {
    "ExecuteTime": {
     "end_time": "2025-02-19T19:27:03.842543Z",
     "start_time": "2025-02-19T19:26:59.965117Z"
    }
   },
   "outputs": [],
   "source": [
    "import torch\n",
    "import torch.nn as nn\n",
    "\n",
    "from classifier import GolemClassifier\n",
    "from backbone import GolemBackbones\n",
    "from model_factories import Model, load_model\n",
    "from dataloaders import get_dataloaders\n",
    "from model_utils import train_epoch, eval, getBestModelParams\n",
    "from plotter import plot_images, plot_metrics"
   ]
  },
  {
   "cell_type": "code",
   "execution_count": 4,
   "metadata": {
    "ExecuteTime": {
     "end_time": "2025-02-19T19:27:03.863197Z",
     "start_time": "2025-02-19T19:27:03.845545Z"
    }
   },
   "outputs": [],
   "source": [
    "device = torch.device(\n",
    "        \"mps\"\n",
    "        if torch.backends.mps.is_available()\n",
    "        else \"cuda\" if torch.cuda.is_available() else \"cpu\"\n",
    "    )\n",
    "\n",
    "EPOCHS = 20\n",
    "\n",
    "IsTesting = False\n",
    "if IsTesting:\n",
    "    data_name = \"cifar10\"\n",
    "else:\n",
    "    data_name = \"cifar100\""
   ]
  },
  {
   "cell_type": "markdown",
   "metadata": {},
   "source": [
    "# CIFAR-10(0) TEST RUN"
   ]
  },
  {
   "cell_type": "code",
   "execution_count": 5,
   "metadata": {
    "ExecuteTime": {
     "end_time": "2025-02-19T19:27:05.394342Z",
     "start_time": "2025-02-19T19:27:04.053170Z"
    }
   },
   "outputs": [],
   "source": [
    "train_loader, test_loader, classes = get_dataloaders(test_run=IsTesting)\n",
    "CLASSES_NUM = len(classes)"
   ]
  },
  {
   "cell_type": "markdown",
   "metadata": {},
   "source": [
    "## Optimal Model Hyperparameters for Custom Backbone Classifier"
   ]
  },
  {
   "cell_type": "code",
   "execution_count": 6,
   "metadata": {
    "ExecuteTime": {
     "end_time": "2025-02-19T19:27:05.404020Z",
     "start_time": "2025-02-19T19:27:05.400874Z"
    }
   },
   "outputs": [],
   "source": [
    "# gc = get_golem_model(CLASSES_NUM)\n",
    "# gc.to(device)\n",
    "\n",
    "# lr, loss, criterion, optim = getBestModelParams(gc, train_loader, device)\n",
    "# print(f\"Optim lr: {lr}\\nLoss: {loss}\\nBest optim: {optim}\\nBest loss func: {criterion}\")\n",
    "\n",
    "# LR = lr\n",
    "\n",
    "LR = 1e-4\n",
    "criterion = nn.CrossEntropyLoss\n",
    "optim = torch.optim.Adam"
   ]
  },
  {
   "cell_type": "markdown",
   "metadata": {},
   "source": [
    "## Sceanrio 1 - Custom Backbone"
   ]
  },
  {
   "cell_type": "code",
   "execution_count": 7,
   "metadata": {
    "ExecuteTime": {
     "end_time": "2025-02-19T19:27:23.685573Z",
     "start_time": "2025-02-19T19:27:23.668278Z"
    }
   },
   "outputs": [],
   "source": [
    "gc = GolemClassifier(GolemBackbones.GM2, CLASSES_NUM)\n",
    "gc.to(device)\n",
    "criterion_gc = criterion()\n",
    "optimizer_gc = optim(params=gc.parameters(), lr=LR)\n",
    "\n",
    "model_name = \"customBackbone\""
   ]
  },
  {
   "cell_type": "code",
   "execution_count": null,
   "metadata": {
    "ExecuteTime": {
     "end_time": "2025-02-19T19:27:41.370147Z",
     "start_time": "2025-02-19T19:27:25.335796Z"
    }
   },
   "outputs": [],
   "source": [
    "training_losses = []\n",
    "validation_losses = []\n",
    "\n",
    "for i in range(EPOCHS):\n",
    "    loss = train_epoch(gc, criterion_gc, optimizer_gc, train_loader, device)\n",
    "    print(f\"{i+1}/{EPOCHS}: loss={loss}\")"
   ]
  },
  {
   "cell_type": "code",
   "execution_count": null,
   "metadata": {},
   "outputs": [],
   "source": [
    "loss, metrics, preds = eval(gc, criterion_gc, test_loader, device)\n",
    "accuracy, precision, recall, f1 = metrics\n",
    "print(\"Custom backbone results: \")\n",
    "print(f\"Avg loss {loss}\\nAccu {accuracy}\\nPrecision {precision}\\nRecall {recall}\\nF-score {f1}\\n\")\n",
    "\n",
    "plot_images(test_loader, preds, classes, title=f\"Classification_{data_name}_{model_name}\")\n",
    "plot_metrics(metrics, title=f\"Metrics_{data_name}_{model_name}\")"
   ]
  },
  {
   "cell_type": "markdown",
   "metadata": {},
   "source": [
    "## Scenario 2 - ResNet18 Linear Probing"
   ]
  },
  {
   "cell_type": "code",
   "execution_count": null,
   "metadata": {},
   "outputs": [],
   "source": [
    "gc = load_model(CLASSES_NUM, criterion, LR, optim, train_loader, device, Model.RESNET18, True)\n",
    "\n",
    "criterion_gc = criterion()\n",
    "model_name = \"resnet18\""
   ]
  },
  {
   "cell_type": "code",
   "execution_count": null,
   "metadata": {},
   "outputs": [],
   "source": [
    "loss, metrics, preds = eval(gc, criterion_gc, test_loader, device)\n",
    "accuracy, precision, recall, f1 = metrics\n",
    "print(\"ResNet18 results: \")\n",
    "print(f\"Avg loss {loss}\\nAccu {accuracy}\\nPrecision {precision}\\nRecall {recall}\\nF-score {f1}\\n\")\n",
    "\n",
    "plot_images(test_loader, preds, classes, title=f\"Classification_{data_name}_{model_name}\")\n",
    "plot_metrics(metrics, title=f\"Metrics_{data_name}_{model_name}\")"
   ]
  },
  {
   "cell_type": "markdown",
   "metadata": {},
   "source": [
    "## Scenario 3 - ResNet34"
   ]
  },
  {
   "cell_type": "code",
   "execution_count": null,
   "metadata": {},
   "outputs": [],
   "source": [
    "gc = load_model(CLASSES_NUM, criterion, LR, optim, train_loader, device, Model.RESNET34, True)\n",
    "\n",
    "criterion_gc = criterion()\n",
    "optimizer_gc = optim(params=gc.parameters(), lr=LR)\n",
    "\n",
    "model_name = \"resnet34\""
   ]
  },
  {
   "cell_type": "code",
   "execution_count": null,
   "metadata": {},
   "outputs": [],
   "source": [
    "loss, metrics, preds = eval(gc, criterion_gc, test_loader, device)\n",
    "accuracy, precision, recall, f1 = metrics\n",
    "print(\"ResNet34 results: \")\n",
    "print(f\"Avg loss {loss}\\nAccu {accuracy}\\nPrecision {precision}\\nRecall {recall}\\nF-score {f1}\\n\")\n",
    "\n",
    "plot_images(test_loader, preds, classes, title=f\"Classification_{data_name}_{model_name}\")\n",
    "plot_metrics(metrics, title=f\"Metrics_{data_name}_{model_name}\")"
   ]
  },
  {
   "cell_type": "markdown",
   "metadata": {},
   "source": [
    "# #TO FIX - Data for ViTbase Model\n",
    "Models use images of size 224x224"
   ]
  },
  {
   "cell_type": "code",
   "execution_count": null,
   "metadata": {},
   "outputs": [],
   "source": [
    "train_loader, test_loader, classes = get_dataloaders(test_run=IsTesting, img_size=224)\n",
    "CLASSES_NUM = len(classes)"
   ]
  },
  {
   "cell_type": "markdown",
   "metadata": {},
   "source": [
    "## Scenario 4 - ViTbase"
   ]
  },
  {
   "cell_type": "code",
   "execution_count": null,
   "metadata": {},
   "outputs": [],
   "source": [
    "gc = load_model(CLASSES_NUM, criterion, LR, optim, train_loader, device, Model.VITBASE, True)\n",
    "\n",
    "criterion_gc = criterion()\n",
    "\n",
    "model_name = \"vitbase\""
   ]
  },
  {
   "cell_type": "code",
   "execution_count": null,
   "metadata": {},
   "outputs": [],
   "source": [
    "loss, metrics, preds = eval(gc, criterion_gc, test_loader, device)\n",
    "accuracy, precision, recall, f1 = metrics\n",
    "print(\"ViTbase results: \")\n",
    "print(f\"Avg loss {loss}\\nAccu {accuracy}\\nPrecision {precision}\\nRecall {recall}\\nF-score {f1}\\n\")\n",
    "\n",
    "plot_images(test_loader, preds, classes, title=f\"Classification_{data_name}_{model_name}\")\n",
    "plot_metrics(metrics, title=f\"Metrics_{data_name}_{model_name}\")"
   ]
  }
 ],
 "metadata": {
  "kernelspec": {
   "display_name": "golem",
   "language": "python",
   "name": "python3"
  },
  "language_info": {
   "codemirror_mode": {
    "name": "ipython",
    "version": 3
   },
   "file_extension": ".py",
   "mimetype": "text/x-python",
   "name": "python",
   "nbconvert_exporter": "python",
   "pygments_lexer": "ipython3",
   "version": "3.10.16"
  }
 },
 "nbformat": 4,
 "nbformat_minor": 2
}
