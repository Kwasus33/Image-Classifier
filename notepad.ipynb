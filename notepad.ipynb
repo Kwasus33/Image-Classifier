{
 "cells": [
  {
   "cell_type": "code",
   "execution_count": 1,
   "metadata": {
    "ExecuteTime": {
     "end_time": "2025-02-19T19:27:03.842543Z",
     "start_time": "2025-02-19T19:26:59.965117Z"
    }
   },
   "outputs": [],
   "source": [
    "import torch\n",
    "import torch.nn as nn\n",
    "\n",
    "from classifier import GolemClassifier\n",
    "from backbone import GolemBackbones\n",
    "from model_factories import Model, train_model, load_model, getBestModelParams\n",
    "from dataloaders import get_dataloaders\n",
    "from model_utils import train_epoch, eval\n",
    "from plotter import plot_images, plot_loss, plot_metrics"
   ]
  },
  {
   "cell_type": "code",
   "execution_count": 2,
   "metadata": {
    "ExecuteTime": {
     "end_time": "2025-02-19T19:27:03.863197Z",
     "start_time": "2025-02-19T19:27:03.845545Z"
    }
   },
   "outputs": [],
   "source": [
    "device = torch.device(\n",
    "        \"mps\"\n",
    "        if torch.backends.mps.is_available()\n",
    "        else \"cuda\" if torch.cuda.is_available() else \"cpu\"\n",
    "    )\n",
    "\n",
    "IsTesting = False\n",
    "if IsTesting:\n",
    "    data_name = \"cifar10\"\n",
    "else:\n",
    "    data_name = \"cifar100\""
   ]
  },
  {
   "cell_type": "markdown",
   "metadata": {},
   "source": [
    "# CIFAR-10(0) TEST RUN"
   ]
  },
  {
   "cell_type": "markdown",
   "metadata": {},
   "source": [
    "## Data loading for custom CNN"
   ]
  },
  {
   "cell_type": "code",
   "execution_count": 4,
   "metadata": {
    "ExecuteTime": {
     "end_time": "2025-02-19T19:27:05.394342Z",
     "start_time": "2025-02-19T19:27:04.053170Z"
    }
   },
   "outputs": [],
   "source": [
    "train_loader, test_loader, classes = get_dataloaders(test_run=IsTesting)\n",
    "CLASSES_NUM = len(classes)"
   ]
  },
  {
   "cell_type": "markdown",
   "metadata": {},
   "source": [
    "## Optimal Model Hyperparameters for Custom Backbone Classifier"
   ]
  },
  {
   "cell_type": "code",
   "execution_count": 5,
   "metadata": {
    "ExecuteTime": {
     "end_time": "2025-02-19T19:27:05.404020Z",
     "start_time": "2025-02-19T19:27:05.400874Z"
    }
   },
   "outputs": [],
   "source": [
    "gc = GolemClassifier(GolemBackbones.GM3, CLASSES_NUM)\n",
    "gc.to(device)\n",
    "\n",
    "# lr, loss, criterion, optim = getBestModelParams(gc, train_loader, device)\n",
    "# print(f\"Optim lr: {lr}\\nLoss: {loss}\\nBest optim: {optim}\\nBest loss func: {criterion}\")\n",
    "\n",
    "# LR = lr\n",
    "\n",
    "EPOCHS = 50\n",
    "\n",
    "LR = 1e-3\n",
    "criterion = nn.CrossEntropyLoss\n",
    "optim = torch.optim.Adam"
   ]
  },
  {
   "cell_type": "markdown",
   "metadata": {},
   "source": [
    "## Scenario 1 - Custom Backbone"
   ]
  },
  {
   "cell_type": "code",
   "execution_count": 6,
   "metadata": {
    "ExecuteTime": {
     "end_time": "2025-02-19T19:27:23.685573Z",
     "start_time": "2025-02-19T19:27:23.668278Z"
    }
   },
   "outputs": [],
   "source": [
    "gc = GolemClassifier(GolemBackbones.GM3, CLASSES_NUM)\n",
    "gc.to(device)\n",
    "criterion_gc = criterion()\n",
    "optimizer_gc = optim(params=gc.parameters(), lr=LR)"
   ]
  },
  {
   "cell_type": "code",
   "execution_count": null,
   "metadata": {
    "ExecuteTime": {
     "end_time": "2025-02-19T19:27:41.370147Z",
     "start_time": "2025-02-19T19:27:25.335796Z"
    }
   },
   "outputs": [],
   "source": [
    "training_losses = []\n",
    "validation_losses = []\n",
    "\n",
    "for i in range(EPOCHS):\n",
    "    loss = train_epoch(gc, criterion_gc, optimizer_gc, train_loader, device)\n",
    "    training_losses.append(loss)\n",
    "    print(f\"{i+1}/{EPOCHS}: loss={loss}\")"
   ]
  },
  {
   "cell_type": "code",
   "execution_count": null,
   "metadata": {},
   "outputs": [],
   "source": [
    "model_name = \"customBackbone\"\n",
    "\n",
    "loss, metrics, preds = eval(gc, criterion_gc, test_loader, device)\n",
    "accuracy, precision, recall, f1 = metrics\n",
    "print(\"Custom backbone results: \")\n",
    "print(f\"Avg loss {loss}\\nAccu {accuracy}\\nPrecision {precision}\\nRecall {recall}\\nF-score {f1}\\n\")\n",
    "\n",
    "plot_images(test_loader, preds, classes, title=f\"Classification_{data_name}_{model_name}\")\n",
    "plot_loss(training_losses, EPOCHS, title=f\"Losses_{data_name}_{model_name}\")\n",
    "plot_metrics(metrics, title=f\"Metrics_{data_name}_{model_name}\")"
   ]
  },
  {
   "cell_type": "markdown",
   "metadata": {},
   "source": [
    "## Data Loading for pretrained CNN"
   ]
  },
  {
   "cell_type": "code",
   "execution_count": 3,
   "metadata": {},
   "outputs": [],
   "source": [
    "train_loader, test_loader, classes = get_dataloaders(test_run=IsTesting, img_size=224)\n",
    "CLASSES_NUM = len(classes)"
   ]
  },
  {
   "cell_type": "markdown",
   "metadata": {},
   "source": [
    "## Scenario 2 - ResNet18 Linear Probing"
   ]
  },
  {
   "cell_type": "code",
   "execution_count": 4,
   "metadata": {},
   "outputs": [],
   "source": [
    "EPOCHS = 50\n",
    "LR_LP = 1e-3\n",
    "criterion = nn.CrossEntropyLoss\n",
    "optim = torch.optim.Adam"
   ]
  },
  {
   "cell_type": "code",
   "execution_count": null,
   "metadata": {},
   "outputs": [],
   "source": [
    "gc, training_losses = train_model(model=Model.RESNET18, criterion=criterion, optimizer=optim, lr=LR_LP,\n",
    "                epochs=EPOCHS, is_lp=True, dataloader=train_loader, classes_num=CLASSES_NUM, device=device)\n",
    "# gc = load_model(model=Model.RESNET18, criterion=criterion, optimizer=optim, lr=LR_LP,\n",
    "#                 epochs=EPOCHS, is_lp=True, dataloader=train_loader, classes_num=CLASSES_NUM, device=device)"
   ]
  },
  {
   "cell_type": "code",
   "execution_count": null,
   "metadata": {},
   "outputs": [],
   "source": [
    "model_name = \"resnet18\"\n",
    "criterion_gc = criterion()\n",
    "\n",
    "loss, metrics, preds = eval(gc, criterion_gc, test_loader, device)\n",
    "accuracy, precision, recall, f1 = metrics\n",
    "print(\"ResNet18 results: \")\n",
    "print(f\"Avg loss {loss}\\nAccu {accuracy}\\nPrecision {precision}\\nRecall {recall}\\nF-score {f1}\\n\")\n",
    "\n",
    "plot_images(test_loader, preds, classes, title=f\"Classification_{data_name}_{model_name}_lp\")\n",
    "plot_loss(training_losses, EPOCHS, title=f\"Losses_{data_name}_{model_name}_lp\")\n",
    "plot_metrics(metrics, title=f\"Metrics_{data_name}_{model_name}_lp\")"
   ]
  },
  {
   "cell_type": "markdown",
   "metadata": {},
   "source": [
    "## Scenario 2 - ResNet18 Fine-Tuning"
   ]
  },
  {
   "cell_type": "code",
   "execution_count": null,
   "metadata": {},
   "outputs": [],
   "source": [
    "EPOCHS = 100\n",
    "LR_LP = 1e-3\n",
    "LR_FT = 1e-4\n",
    "criterion = nn.CrossEntropyLoss\n",
    "optim = torch.optim.Adam"
   ]
  },
  {
   "cell_type": "code",
   "execution_count": null,
   "metadata": {},
   "outputs": [],
   "source": [
    "gc, training_losses = train_model(model=Model.RESNET18, criterion=criterion, optimizer=optim, lr=LR_FT,\n",
    "                epochs=EPOCHS, is_lp=False, dataloader=train_loader, classes_num=CLASSES_NUM, device=device)\n",
    "# gc = load_model(model=Model.RESNET18, criterion=criterion, optimizer=optim, lr=LR_FT,\n",
    "#                 epochs=EPOCHS, is_lp=False, dataloader=train_loader, classes_num=CLASSES_NUM, device=device)"
   ]
  },
  {
   "cell_type": "code",
   "execution_count": null,
   "metadata": {},
   "outputs": [],
   "source": [
    "model_name = \"resnet18\"\n",
    "criterion_gc = criterion()\n",
    "\n",
    "loss, metrics, preds = eval(gc, criterion_gc, test_loader, device)\n",
    "accuracy, precision, recall, f1 = metrics\n",
    "print(\"ResNet18 results: \")\n",
    "print(f\"Avg loss {loss}\\nAccu {accuracy}\\nPrecision {precision}\\nRecall {recall}\\nF-score {f1}\\n\")\n",
    "\n",
    "plot_images(test_loader, preds, classes, title=f\"Classification_{data_name}_{model_name}_ft\")\n",
    "plot_loss(training_losses, EPOCHS, title=f\"Losses_{data_name}_{model_name}_ft\")\n",
    "plot_metrics(metrics, title=f\"Metrics_{data_name}_{model_name}_ft\")"
   ]
  },
  {
   "cell_type": "markdown",
   "metadata": {},
   "source": [
    "## Scenario 3 - ResNet34 Linear Probing"
   ]
  },
  {
   "cell_type": "code",
   "execution_count": 4,
   "metadata": {},
   "outputs": [],
   "source": [
    "EPOCHS = 50\n",
    "LR_LP = 1e-3\n",
    "LR_FT = 1e-4\n",
    "criterion = nn.CrossEntropyLoss\n",
    "optim = torch.optim.Adam"
   ]
  },
  {
   "cell_type": "code",
   "execution_count": null,
   "metadata": {},
   "outputs": [
    {
     "name": "stdout",
     "output_type": "stream",
     "text": [
      "Epoch 1/50 loss: 970.7810009717941\n",
      "\n",
      "Epoch 2/50 loss: 615.915922164917\n",
      "\n",
      "Epoch 3/50 loss: 551.764918744564\n",
      "\n",
      "Epoch 4/50 loss: 519.0886428356171\n",
      "\n",
      "Epoch 5/50 loss: 498.73195350170135\n",
      "\n",
      "Epoch 6/50 loss: 481.1151725053787\n",
      "\n",
      "Epoch 7/50 loss: 469.99687254428864\n",
      "\n",
      "Epoch 8/50 loss: 458.2369158267975\n",
      "\n",
      "Epoch 9/50 loss: 450.96318405866623\n",
      "\n",
      "Epoch 10/50 loss: 441.3735896348953\n",
      "\n",
      "Epoch 11/50 loss: 435.11124700307846\n",
      "\n",
      "Epoch 12/50 loss: 429.5315052270889\n",
      "\n",
      "Epoch 13/50 loss: 423.84358751773834\n",
      "\n",
      "Epoch 14/50 loss: 420.8210645914078\n",
      "\n",
      "Epoch 15/50 loss: 415.109856069088\n",
      "\n",
      "Epoch 16/50 loss: 410.8504403233528\n",
      "\n",
      "Epoch 17/50 loss: 406.0782967209816\n",
      "\n",
      "Epoch 18/50 loss: 403.5422432422638\n",
      "\n",
      "Epoch 19/50 loss: 399.8899236321449\n",
      "\n",
      "Epoch 20/50 loss: 396.32053315639496\n",
      "\n",
      "Epoch 21/50 loss: 395.115586578846\n",
      "\n",
      "Epoch 22/50 loss: 391.0185327529907\n",
      "\n",
      "Epoch 23/50 loss: 387.8780099749565\n",
      "\n",
      "Epoch 24/50 loss: 385.15100944042206\n",
      "\n",
      "Epoch 25/50 loss: 383.1784388422966\n",
      "\n",
      "Epoch 26/50 loss: 381.21257680654526\n",
      "\n",
      "Epoch 27/50 loss: 380.21347415447235\n",
      "\n",
      "Epoch 28/50 loss: 376.99976551532745\n",
      "\n"
     ]
    }
   ],
   "source": [
    "gc, training_losses = train_model(model=Model.RESNET34, criterion=criterion, optimizer=optim, lr=LR_LP,\n",
    "                epochs=EPOCHS, is_lp=True, dataloader=train_loader, classes_num=CLASSES_NUM, device=device)\n",
    "# gc = load_model(model=Model.RESNET18, criterion=criterion, optimizer=optim, lr=LR_LP,\n",
    "#                 epochs=EPOCHS, is_lp=True, dataloader=train_loader, classes_num=CLASSES_NUM, device=device)"
   ]
  },
  {
   "cell_type": "code",
   "execution_count": null,
   "metadata": {},
   "outputs": [],
   "source": [
    "model_name = \"resnet34\"\n",
    "criterion_gc = criterion()\n",
    "\n",
    "loss, metrics, preds = eval(gc, criterion_gc, test_loader, device)\n",
    "accuracy, precision, recall, f1 = metrics\n",
    "print(\"ResNet34 results: \")\n",
    "print(f\"Avg loss {loss}\\nAccu {accuracy}\\nPrecision {precision}\\nRecall {recall}\\nF-score {f1}\\n\")\n",
    "\n",
    "plot_images(test_loader, preds, classes, title=f\"Classification_{data_name}_{model_name}_lp\")\n",
    "plot_loss(training_losses, EPOCHS, title=f\"Losses_{data_name}_{model_name}_lp\")\n",
    "plot_metrics(metrics, title=f\"Metrics_{data_name}_{model_name}_lp\")"
   ]
  },
  {
   "cell_type": "markdown",
   "metadata": {},
   "source": [
    "## Scenario 3 - ResNet34 Fine-Tuning"
   ]
  },
  {
   "cell_type": "code",
   "execution_count": null,
   "metadata": {},
   "outputs": [],
   "source": [
    "EPOCHS = 100\n",
    "LR_LP = 1e-3\n",
    "LR_FT = 1e-4\n",
    "criterion = nn.CrossEntropyLoss\n",
    "optim = torch.optim.Adam"
   ]
  },
  {
   "cell_type": "code",
   "execution_count": null,
   "metadata": {},
   "outputs": [],
   "source": [
    "gc, training_losses = train_model(model=Model.RESNET34, criterion=criterion, optimizer=optim, lr=LR_FT,\n",
    "                epochs=EPOCHS, is_lp=False, dataloader=train_loader, classes_num=CLASSES_NUM, device=device)\n",
    "# gc = load_model(model=Model.RESNET18, criterion=criterion, optimizer=optim, lr=LR_FT,\n",
    "#                 epochs=EPOCHS, is_lp=False, dataloader=train_loader, classes_num=CLASSES_NUM, device=device)"
   ]
  },
  {
   "cell_type": "code",
   "execution_count": null,
   "metadata": {},
   "outputs": [],
   "source": [
    "model_name = \"resnet34\"\n",
    "criterion_gc = criterion()\n",
    "\n",
    "loss, metrics, preds = eval(gc, criterion_gc, test_loader, device)\n",
    "accuracy, precision, recall, f1 = metrics\n",
    "print(\"ResNet34 results: \")\n",
    "print(f\"Avg loss {loss}\\nAccu {accuracy}\\nPrecision {precision}\\nRecall {recall}\\nF-score {f1}\\n\")\n",
    "\n",
    "plot_images(test_loader, preds, classes, title=f\"Classification_{data_name}_{model_name}_fp\")\n",
    "plot_loss(training_losses, EPOCHS, title=f\"Losses_{data_name}_{model_name}_fp\")\n",
    "plot_metrics(metrics, title=f\"Metrics_{data_name}_{model_name}_fp\")"
   ]
  },
  {
   "cell_type": "markdown",
   "metadata": {},
   "source": [
    "## Scenario 4 - ViTbase Linear Probing"
   ]
  },
  {
   "cell_type": "code",
   "execution_count": null,
   "metadata": {},
   "outputs": [],
   "source": [
    "gc, training_losses = train_model(model=Model.VITBASE, criterion=criterion, optimizer=optim, lr=LR_LP,\n",
    "                epochs=EPOCHS, is_lp=True, dataloader=train_loader, classes_num=CLASSES_NUM, device=device)\n",
    "# gc = load_model(model=Model.VITBASE, criterion=criterion, optimizer=optim, lr=LR_LP,\n",
    "#                 epochs=EPOCHS, is_lp=True, dataloader=train_loader, classes_num=CLASSES_NUM, device=device)"
   ]
  },
  {
   "cell_type": "code",
   "execution_count": null,
   "metadata": {},
   "outputs": [],
   "source": [
    "model_name = \"vitbase\"\n",
    "criterion_gc = criterion()\n",
    "\n",
    "loss, metrics, preds = eval(gc, criterion_gc, test_loader, device)\n",
    "accuracy, precision, recall, f1 = metrics\n",
    "print(\"ViTbase results: \")\n",
    "print(f\"Avg loss {loss}\\nAccu {accuracy}\\nPrecision {precision}\\nRecall {recall}\\nF-score {f1}\\n\")\n",
    "\n",
    "plot_images(test_loader, preds, classes, title=f\"Classification_{data_name}_{model_name}_lp\")\n",
    "plot_loss(training_losses, EPOCHS, title=f\"Losses_{data_name}_{model_name}_lp\")\n",
    "plot_metrics(metrics, title=f\"Metrics_{data_name}_{model_name}_lp\")"
   ]
  },
  {
   "cell_type": "markdown",
   "metadata": {},
   "source": [
    "## Scenario 4 - ViTbase Fine-Tuning"
   ]
  },
  {
   "cell_type": "code",
   "execution_count": null,
   "metadata": {},
   "outputs": [],
   "source": [
    "gc, training_losses = train_model(model=Model.VITBASE, criterion=criterion, optimizer=optim, lr=LR_FT,\n",
    "                epochs=EPOCHS, is_lp=False, dataloader=train_loader, classes_num=CLASSES_NUM, device=device)\n",
    "# gc = load_model(model=Model.VITBASE, criterion=criterion, optimizer=optim, lr=LR_FT,\n",
    "#                 epochs=EPOCHS, is_lp=False, dataloader=train_loader, classes_num=CLASSES_NUM, device=device)"
   ]
  },
  {
   "cell_type": "code",
   "execution_count": null,
   "metadata": {},
   "outputs": [],
   "source": [
    "model_name = \"vitbase\"\n",
    "criterion_gc = criterion()\n",
    "\n",
    "loss, metrics, preds = eval(gc, criterion_gc, test_loader, device)\n",
    "accuracy, precision, recall, f1 = metrics\n",
    "print(\"ViTbase results: \")\n",
    "print(f\"Avg loss {loss}\\nAccu {accuracy}\\nPrecision {precision}\\nRecall {recall}\\nF-score {f1}\\n\")\n",
    "\n",
    "plot_images(test_loader, preds, classes, title=f\"Classification_{data_name}_{model_name}_ft\")\n",
    "plot_loss(training_losses, EPOCHS, title=f\"Losses_{data_name}_{model_name}_ft\")\n",
    "plot_metrics(metrics, title=f\"Metrics_{data_name}_{model_name}_ft\")"
   ]
  }
 ],
 "metadata": {
  "kernelspec": {
   "display_name": "golem",
   "language": "python",
   "name": "python3"
  },
  "language_info": {
   "codemirror_mode": {
    "name": "ipython",
    "version": 3
   },
   "file_extension": ".py",
   "mimetype": "text/x-python",
   "name": "python",
   "nbconvert_exporter": "python",
   "pygments_lexer": "ipython3",
   "version": "3.10.16"
  }
 },
 "nbformat": 4,
 "nbformat_minor": 2
}
